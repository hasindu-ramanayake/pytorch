{
  "nbformat": 4,
  "nbformat_minor": 0,
  "metadata": {
    "colab": {
      "provenance": [],
      "toc_visible": true
    },
    "kernelspec": {
      "name": "python3",
      "display_name": "Python 3"
    },
    "language_info": {
      "name": "python"
    }
  },
  "cells": [
    {
      "cell_type": "code",
      "execution_count": 10,
      "metadata": {
        "id": "_WkLOMZ6J_PT"
      },
      "outputs": [],
      "source": [
        "#!pip install kaggle\n",
        "#!mkdir ~/.kaggle\n",
        "#!chmod 600 /root/.kaggle/kaggle.json"
      ]
    },
    {
      "cell_type": "code",
      "source": [
        "from kaggle.api.kaggle_api_extended import KaggleApi"
      ],
      "metadata": {
        "id": "diStBcELLCF9"
      },
      "execution_count": 12,
      "outputs": []
    },
    {
      "cell_type": "code",
      "source": [
        "api = KaggleApi()\n",
        "api.authenticate()"
      ],
      "metadata": {
        "id": "BMdxVSJ0L_hL"
      },
      "execution_count": 13,
      "outputs": []
    },
    {
      "cell_type": "code",
      "source": [
        "#enroll to the competition from the site\n",
        "api.competition_download_file('sentiment-analysis-on-movie-reviews', 'test.tsv.zip', path='./')\n",
        "api.competition_download_file('sentiment-analysis-on-movie-reviews', 'train.tsv.zip', path='./')\n",
        "\n"
      ],
      "metadata": {
        "id": "D0293bUBM24S"
      },
      "execution_count": null,
      "outputs": []
    },
    {
      "cell_type": "code",
      "source": [
        "import zipfile\n",
        "with zipfile.ZipFile(\"./test.tsv.zip\", 'r') as zipref:\n",
        "  zipref.extractall(\"./\")\n",
        "\n",
        "import zipfile\n",
        "with zipfile.ZipFile(\"./train.tsv.zip\", 'r') as zipref:\n",
        "  zipref.extractall(\"./\")"
      ],
      "metadata": {
        "id": "FKbv8eraNdOB"
      },
      "execution_count": 21,
      "outputs": []
    },
    {
      "cell_type": "code",
      "source": [
        "###### pre process the data! ################\n",
        "import pandas as pd"
      ],
      "metadata": {
        "id": "QSM29w4KQUmU"
      },
      "execution_count": 22,
      "outputs": []
    },
    {
      "cell_type": "code",
      "source": [
        "df = pd.read_csv( \"train.tsv\", sep='\\t');\n",
        "df.head()"
      ],
      "metadata": {
        "id": "KXURFxW7RoQV"
      },
      "execution_count": null,
      "outputs": []
    },
    {
      "cell_type": "code",
      "source": [
        "#df.drop_duplicates(subset=['SentenceId'], keep='first' )"
      ],
      "metadata": {
        "id": "L4LLa5daR3Ak"
      },
      "execution_count": null,
      "outputs": []
    },
    {
      "cell_type": "code",
      "source": [
        "df['Sentiment'].value_counts().plot(kind='bar')"
      ],
      "metadata": {
        "id": "3oAzlAgRSJoo"
      },
      "execution_count": null,
      "outputs": []
    },
    {
      "cell_type": "code",
      "source": [
        "seq_len = 512\n",
        "num_samples = len(df)"
      ],
      "metadata": {
        "id": "vXTHHsDDSjSD"
      },
      "execution_count": 28,
      "outputs": []
    },
    {
      "cell_type": "code",
      "source": [
        "# !pip install transformers"
      ],
      "metadata": {
        "id": "-U_Q866VS9Vz"
      },
      "execution_count": null,
      "outputs": []
    },
    {
      "cell_type": "code",
      "source": [
        "from transformers import BertTokenizer\n",
        "import numpy as np"
      ],
      "metadata": {
        "id": "Yc0nHP73S-0h"
      },
      "execution_count": 3,
      "outputs": []
    },
    {
      "cell_type": "code",
      "source": [
        "tokenizer = BertTokenizer.from_pretrained('bert-base-cased')\n",
        "tokens = tokenizer( df['Phrase'].tolist(), max_length=seq_len, truncation=True, padding='max_length', add_special_tokens=True, return_tensors='np')"
      ],
      "metadata": {
        "id": "A47BCX_ETM7k"
      },
      "execution_count": 32,
      "outputs": []
    },
    {
      "cell_type": "code",
      "source": [
        "tokens.keys()"
      ],
      "metadata": {
        "id": "86Zb0Y1pTvX-"
      },
      "execution_count": null,
      "outputs": []
    },
    {
      "cell_type": "code",
      "source": [
        "tokens['input_ids'], tokens['attention_mask']"
      ],
      "metadata": {
        "id": "b6FU6VjeUdRP"
      },
      "execution_count": null,
      "outputs": []
    },
    {
      "cell_type": "code",
      "source": [
        "with open('movie-xids.npy', 'wb' ) as f:\n",
        "  np.save(f, tokens['input_ids'])\n",
        "\n",
        "with open('movie-xmask.npy', 'wb' ) as f:\n",
        "  np.save(f, tokens['attention_mask'])"
      ],
      "metadata": {
        "id": "JmB3qSsBUn7b"
      },
      "execution_count": 39,
      "outputs": []
    },
    {
      "cell_type": "code",
      "source": [
        "arr = df[\"Sentiment\"].values\n",
        "labels = np.zeros( (num_samples, arr.max()+1) )\n",
        "labels.shape"
      ],
      "metadata": {
        "id": "qJpHgKGdVOuL"
      },
      "execution_count": null,
      "outputs": []
    },
    {
      "cell_type": "code",
      "source": [
        "labels[ np.arange(num_samples), arr] = 1\n",
        "labels"
      ],
      "metadata": {
        "id": "iagg02DiWuQr"
      },
      "execution_count": null,
      "outputs": []
    },
    {
      "cell_type": "code",
      "source": [
        "with open('movie-labels.npy', 'wb') as f:\n",
        "  np.save(f, labels)"
      ],
      "metadata": {
        "id": "CQpaPSiZW7wt"
      },
      "execution_count": 47,
      "outputs": []
    },
    {
      "cell_type": "code",
      "source": [
        "del tokens"
      ],
      "metadata": {
        "id": "5bowGvWsXPSB"
      },
      "execution_count": 46,
      "outputs": []
    },
    {
      "cell_type": "code",
      "source": [
        "######### design pipline ####\n",
        "import numpy as np"
      ],
      "metadata": {
        "id": "CX8NPqVEXdBD"
      },
      "execution_count": 2,
      "outputs": []
    },
    {
      "cell_type": "code",
      "source": [
        "with open('movie-labels.npy', 'rb' ) as f:\n",
        "  labels = np.load(f, allow_pickle=True);\n",
        "\n",
        "with open('movie-xmask.npy', 'rb' ) as f:\n",
        "  xmask = np.load(f, allow_pickle=True);\n",
        "\n",
        "with open('movie-xids.npy', 'rb' ) as f:\n",
        "  xid = np.load(f, allow_pickle=True);"
      ],
      "metadata": {
        "id": "rti7_Bq6X1yG"
      },
      "execution_count": 3,
      "outputs": []
    },
    {
      "cell_type": "code",
      "source": [
        "import tensorflow as tf"
      ],
      "metadata": {
        "id": "QMLjko9WZ9Ba"
      },
      "execution_count": 4,
      "outputs": []
    },
    {
      "cell_type": "code",
      "source": [
        "dataset = tf.data.Dataset.from_tensor_slices((xid, xmask, labels))\n",
        "dataset.take(1)"
      ],
      "metadata": {
        "colab": {
          "base_uri": "https://localhost:8080/"
        },
        "id": "ESP-LmcNbtQ_",
        "outputId": "bb158c1b-8fe3-4cc3-ccfc-fd0c55b07d96"
      },
      "execution_count": 5,
      "outputs": [
        {
          "output_type": "execute_result",
          "data": {
            "text/plain": [
              "<_TakeDataset element_spec=(TensorSpec(shape=(512,), dtype=tf.int64, name=None), TensorSpec(shape=(512,), dtype=tf.int64, name=None), TensorSpec(shape=(5,), dtype=tf.float64, name=None))>"
            ]
          },
          "metadata": {},
          "execution_count": 5
        }
      ]
    },
    {
      "cell_type": "code",
      "source": [
        "def map_func( input_ids, mask, lables ):\n",
        "  return { 'input_ids':input_ids, 'attention_mask':mask}, labels\n",
        "\n",
        "dataset = dataset.map(map_func)\n",
        "dataset.take(1)"
      ],
      "metadata": {
        "colab": {
          "base_uri": "https://localhost:8080/"
        },
        "id": "nf_LgevFb9ph",
        "outputId": "2992ac32-f2b9-4350-e6a3-fb55e895063a"
      },
      "execution_count": 6,
      "outputs": [
        {
          "output_type": "execute_result",
          "data": {
            "text/plain": [
              "<_TakeDataset element_spec=({'input_ids': TensorSpec(shape=(512,), dtype=tf.int64, name=None), 'attention_mask': TensorSpec(shape=(512,), dtype=tf.int64, name=None)}, TensorSpec(shape=(156060, 5), dtype=tf.float64, name=None))>"
            ]
          },
          "metadata": {},
          "execution_count": 6
        }
      ]
    },
    {
      "cell_type": "code",
      "source": [
        "batch_size = 16\n",
        "dataset = dataset.shuffle(10000).batch( batch_size, drop_remainder=True)\n",
        "dataset.take(1)"
      ],
      "metadata": {
        "colab": {
          "base_uri": "https://localhost:8080/"
        },
        "id": "m63xIkMmdVMD",
        "outputId": "8b45986d-aa76-4f85-a8fa-7367051687e5"
      },
      "execution_count": 7,
      "outputs": [
        {
          "output_type": "execute_result",
          "data": {
            "text/plain": [
              "<_TakeDataset element_spec=({'input_ids': TensorSpec(shape=(16, 512), dtype=tf.int64, name=None), 'attention_mask': TensorSpec(shape=(16, 512), dtype=tf.int64, name=None)}, TensorSpec(shape=(16, 156060, 5), dtype=tf.float64, name=None))>"
            ]
          },
          "metadata": {},
          "execution_count": 7
        }
      ]
    },
    {
      "cell_type": "code",
      "source": [
        "split =0.9\n",
        "size = int( (xid.shape[0]/ batch_size)* split)\n",
        "size"
      ],
      "metadata": {
        "colab": {
          "base_uri": "https://localhost:8080/"
        },
        "id": "1cbc9VLveS3H",
        "outputId": "cfc31be2-3240-46c6-f224-5e1a33ec34d4"
      },
      "execution_count": 8,
      "outputs": [
        {
          "output_type": "execute_result",
          "data": {
            "text/plain": [
              "8778"
            ]
          },
          "metadata": {},
          "execution_count": 8
        }
      ]
    },
    {
      "cell_type": "code",
      "source": [
        "train_dataset = dataset.take(size)\n",
        "val_dataset = dataset.skip(size)"
      ],
      "metadata": {
        "id": "9OAikZElenao"
      },
      "execution_count": 9,
      "outputs": []
    },
    {
      "cell_type": "code",
      "source": [
        "del dataset"
      ],
      "metadata": {
        "id": "nuruh5TTfeqT"
      },
      "execution_count": 10,
      "outputs": []
    },
    {
      "cell_type": "code",
      "source": [
        "# tf.data.experimental.save( train_dataset, 'train')\n",
        "# tf.data.experimental.save( val_dataset, 'val')"
      ],
      "metadata": {
        "colab": {
          "base_uri": "https://localhost:8080/"
        },
        "id": "SFY6hb29e1Mo",
        "outputId": "97e335cc-7cbd-466b-cc8d-59da86c226b4"
      },
      "execution_count": null,
      "outputs": [
        {
          "output_type": "stream",
          "name": "stderr",
          "text": [
            "WARNING:tensorflow:From <ipython-input-16-3193fdcdb891>:1: save (from tensorflow.python.data.experimental.ops.io) is deprecated and will be removed in a future version.\n",
            "Instructions for updating:\n",
            "Use `tf.data.Dataset.save(...)` instead.\n"
          ]
        }
      ]
    },
    {
      "cell_type": "code",
      "source": [],
      "metadata": {
        "colab": {
          "base_uri": "https://localhost:8080/"
        },
        "id": "00sNOsGce-j5",
        "outputId": "61190fdc-191a-4d2a-8945-c7d30c906f08"
      },
      "execution_count": 11,
      "outputs": [
        {
          "output_type": "execute_result",
          "data": {
            "text/plain": [
              "({'input_ids': TensorSpec(shape=(16, 512), dtype=tf.int64, name=None),\n",
              "  'attention_mask': TensorSpec(shape=(16, 512), dtype=tf.int64, name=None)},\n",
              " TensorSpec(shape=(16, 156060, 5), dtype=tf.float64, name=None))"
            ]
          },
          "metadata": {},
          "execution_count": 11
        }
      ]
    },
    {
      "cell_type": "code",
      "source": [
        "val_dataset.element_spec == train_dataset.element_spec"
      ],
      "metadata": {
        "colab": {
          "base_uri": "https://localhost:8080/"
        },
        "id": "6R0cH4NogBiO",
        "outputId": "9b710654-0d8c-46f1-b753-a1ef8f3cd8b5"
      },
      "execution_count": 12,
      "outputs": [
        {
          "output_type": "execute_result",
          "data": {
            "text/plain": [
              "True"
            ]
          },
          "metadata": {},
          "execution_count": 12
        }
      ]
    },
    {
      "cell_type": "code",
      "source": [],
      "metadata": {
        "id": "ASo2PsplgKpt"
      },
      "execution_count": 15,
      "outputs": []
    }
  ]
}