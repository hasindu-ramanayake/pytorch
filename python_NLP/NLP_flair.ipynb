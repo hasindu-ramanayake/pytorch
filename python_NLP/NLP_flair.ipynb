{
  "nbformat": 4,
  "nbformat_minor": 0,
  "metadata": {
    "colab": {
      "provenance": []
    },
    "kernelspec": {
      "name": "python3",
      "display_name": "Python 3"
    },
    "language_info": {
      "name": "python"
    }
  },
  "cells": [
    {
      "cell_type": "code",
      "execution_count": null,
      "metadata": {
        "id": "cU4QBHad2xi6"
      },
      "outputs": [],
      "source": [
        "#!pip install flair"
      ]
    },
    {
      "cell_type": "code",
      "source": [
        "import flair\n",
        "\n",
        "model = flair.models.TextClassifier.load(\"en-sentiment\")"
      ],
      "metadata": {
        "id": "0MGOk7rV22uC"
      },
      "execution_count": null,
      "outputs": []
    },
    {
      "cell_type": "code",
      "source": [
        "txt = \"I'm happy...!!\"\n",
        "sentence = flair.data.Sentence(txt)\n",
        "sentence"
      ],
      "metadata": {
        "id": "wA1pRg9R3PCi",
        "colab": {
          "base_uri": "https://localhost:8080/"
        },
        "outputId": "6515019e-3a68-4b46-c9b7-08b6169143c9"
      },
      "execution_count": 3,
      "outputs": [
        {
          "output_type": "execute_result",
          "data": {
            "text/plain": [
              "Sentence[5]: \"I'm happy...!!\""
            ]
          },
          "metadata": {},
          "execution_count": 3
        }
      ]
    },
    {
      "cell_type": "code",
      "source": [
        "sentence.to_tokenized_string()"
      ],
      "metadata": {
        "colab": {
          "base_uri": "https://localhost:8080/",
          "height": 35
        },
        "id": "VrT7UwCr-JJt",
        "outputId": "2322ad55-3bc4-452a-e580-3342fcb3f042"
      },
      "execution_count": 4,
      "outputs": [
        {
          "output_type": "execute_result",
          "data": {
            "text/plain": [
              "\"I 'm happy ...! !\""
            ],
            "application/vnd.google.colaboratory.intrinsic+json": {
              "type": "string"
            }
          },
          "metadata": {},
          "execution_count": 4
        }
      ]
    },
    {
      "cell_type": "code",
      "source": [
        "model.predict(sentence)\n",
        "sentence"
      ],
      "metadata": {
        "colab": {
          "base_uri": "https://localhost:8080/"
        },
        "id": "ksJD5Ukf-RsE",
        "outputId": "358ffc1a-48ae-4c64-92a5-b9114a19b23e"
      },
      "execution_count": 6,
      "outputs": [
        {
          "output_type": "execute_result",
          "data": {
            "text/plain": [
              "Sentence[5]: \"I'm happy...!!\" → POSITIVE (0.9978)"
            ]
          },
          "metadata": {},
          "execution_count": 6
        }
      ]
    },
    {
      "cell_type": "code",
      "source": [
        "\n",
        "txt2 = \"I have no idea..!!\"\n",
        "sentence2 = flair.data.Sentence(txt2)\n",
        "sentence2.to_tokenized_string();\n",
        "model.predict(sentence2)\n",
        "sentence2.get_labels()[0].score\n"
      ],
      "metadata": {
        "colab": {
          "base_uri": "https://localhost:8080/"
        },
        "id": "VR44YYhf-WDy",
        "outputId": "d90f08d3-ffeb-4cbe-f296-7f63dceb00a7"
      },
      "execution_count": 11,
      "outputs": [
        {
          "output_type": "execute_result",
          "data": {
            "text/plain": [
              "0.8667547106742859"
            ]
          },
          "metadata": {},
          "execution_count": 11
        }
      ]
    },
    {
      "cell_type": "code",
      "source": [
        "sentence2.get_labels()[0].value"
      ],
      "metadata": {
        "colab": {
          "base_uri": "https://localhost:8080/",
          "height": 35
        },
        "id": "M6tG2wZv_Ks5",
        "outputId": "18393724-f9c2-4f74-8a3c-28cb0719d230"
      },
      "execution_count": 12,
      "outputs": [
        {
          "output_type": "execute_result",
          "data": {
            "text/plain": [
              "'NEGATIVE'"
            ],
            "application/vnd.google.colaboratory.intrinsic+json": {
              "type": "string"
            }
          },
          "metadata": {},
          "execution_count": 12
        }
      ]
    },
    {
      "cell_type": "code",
      "source": [],
      "metadata": {
        "id": "vlWR7Yqi_ohb"
      },
      "execution_count": null,
      "outputs": []
    }
  ]
}