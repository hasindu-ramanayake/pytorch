{
  "nbformat": 4,
  "nbformat_minor": 0,
  "metadata": {
    "colab": {
      "provenance": []
    },
    "kernelspec": {
      "name": "python3",
      "display_name": "Python 3"
    },
    "language_info": {
      "name": "python"
    }
  },
  "cells": [
    {
      "cell_type": "code",
      "source": [
        "#!pip install transformers"
      ],
      "metadata": {
        "id": "YL6AMhx5ERtJ"
      },
      "execution_count": null,
      "outputs": []
    },
    {
      "cell_type": "code",
      "execution_count": 3,
      "metadata": {
        "id": "m9fbuVYjDMV8"
      },
      "outputs": [],
      "source": [
        "model_name = \"ProsusAI/finbert\"\n",
        "from transformers import BertForSequenceClassification, BertTokenizer"
      ]
    },
    {
      "cell_type": "code",
      "source": [
        "model = BertForSequenceClassification.from_pretrained(model_name)"
      ],
      "metadata": {
        "id": "FMX0b2taEbr8"
      },
      "execution_count": null,
      "outputs": []
    },
    {
      "cell_type": "code",
      "source": [
        "tokenizer = BertTokenizer.from_pretrained(model_name)"
      ],
      "metadata": {
        "id": "HiBqGLotEkha"
      },
      "execution_count": null,
      "outputs": []
    },
    {
      "cell_type": "code",
      "source": [
        "txt = (\"Given the recent downturn in stocks especially in tech which is likely to persist as yields keep going up, \"\n",
        "       \"I thought it would be prudent to share the risks of investing in ARK ETFs, written up very nicely by \"\n",
        "       \"[The Bear Cave](https://thebearcave.substack.com/p/special-edition-will-ark-invest-blow). The risks comes \"\n",
        "       \"primarily from ARK's illiquid and very large holdings in small cap companies. ARK is forced to sell its \"\n",
        "       \"holdings whenever its liquid ETF gets hit with outflows as is especially the case in market downturns. \"\n",
        "       \"This could force very painful liquidations at unfavorable prices and the ensuing crash goes into a \"\n",
        "       \"positive feedback loop leading into a death spiral enticing even more outflows and predatory shorts.\")\n",
        "\n",
        "#text, max_length, truncation=True\n",
        "tokens = tokenizer.encode_plus(txt, max_length=512, truncation=True, padding='max_length', add_special_tokens=True, return_tensors='pt' )\n",
        "tokens\n",
        "\n",
        "#[CLS] = 101\n",
        "#[SEP] = 102\n",
        "#[MASK] = 103\n",
        "#[UNK] = 100\n",
        "#[PAD] = 0"
      ],
      "metadata": {
        "id": "rzHkrYz2E6KB"
      },
      "execution_count": null,
      "outputs": []
    },
    {
      "cell_type": "code",
      "source": [
        "output = model(**tokens)"
      ],
      "metadata": {
        "id": "Y3aKzn1NH565"
      },
      "execution_count": null,
      "outputs": []
    },
    {
      "cell_type": "code",
      "source": [
        "import torch.nn.functional as F\n",
        "import torch"
      ],
      "metadata": {
        "id": "NZUmG6RTGF8P"
      },
      "execution_count": 10,
      "outputs": []
    },
    {
      "cell_type": "code",
      "source": [
        "probs = F.softmax( output[0], dim=-1 )\n",
        "pred = torch.argmax(probs)\n",
        "probs #The model will give softmax outputs for three labels: positive, negative or neutral.\n",
        "# pred.item()"
      ],
      "metadata": {
        "colab": {
          "base_uri": "https://localhost:8080/"
        },
        "id": "x0iibhqhHuHH",
        "outputId": "be898465-3f1f-4872-fbae-4dfe1e58559a"
      },
      "execution_count": 14,
      "outputs": [
        {
          "output_type": "execute_result",
          "data": {
            "text/plain": [
              "tensor([[0.0127, 0.9072, 0.0801]], grad_fn=<SoftmaxBackward0>)"
            ]
          },
          "metadata": {},
          "execution_count": 14
        }
      ]
    },
    {
      "cell_type": "code",
      "source": [],
      "metadata": {
        "id": "zk6f3nSWH2Zm"
      },
      "execution_count": null,
      "outputs": []
    }
  ]
}