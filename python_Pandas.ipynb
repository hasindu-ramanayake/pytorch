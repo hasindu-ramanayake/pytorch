{
  "nbformat": 4,
  "nbformat_minor": 0,
  "metadata": {
    "colab": {
      "provenance": [],
      "authorship_tag": "ABX9TyOGk4OJ2PS+9+hQyX8cgYSI",
      "include_colab_link": true
    },
    "kernelspec": {
      "name": "python3",
      "display_name": "Python 3"
    },
    "language_info": {
      "name": "python"
    }
  },
  "cells": [
    {
      "cell_type": "markdown",
      "metadata": {
        "id": "view-in-github",
        "colab_type": "text"
      },
      "source": [
        "<a href=\"https://colab.research.google.com/github/hasindu-ramanayake/pytorch/blob/main/python_Pandas.ipynb\" target=\"_parent\"><img src=\"https://colab.research.google.com/assets/colab-badge.svg\" alt=\"Open In Colab\"/></a>"
      ]
    },
    {
      "cell_type": "code",
      "execution_count": null,
      "metadata": {
        "id": "ZQBMbWcu6NE6"
      },
      "outputs": [],
      "source": [
        "import pandas as pd\n",
        "\n",
        "#reviews is a dataframe created by pandas\n",
        "\n",
        "#read a file / loading data\n",
        "reviews = pd.read_csv(\"fileName.csv\", index_col=0)\n",
        "reviews = pd.read_excel(\"fileName\")\n",
        "reviews = pd.read_json(\"fileName\")\n",
        "\n",
        "\n",
        "#basic data exploration\n",
        "reviews.shape\n",
        "reviews.head()\n",
        "reviews.tail()\n",
        "reviews.info()\n",
        "reviews.describe()\n",
        "\n",
        "#data cleaning\n",
        "reviews.drop( [\"col\",\"col\"], axis=1, inplace=True ) # dro col from dataframe\n",
        "reviews.dropna ( inplace=True ) # drop rows with missing values\n",
        "reviews.fillna ( value=0, inplace=True ) #fill missing values with a specific value\n",
        "reviews[\"col\"].replace('old_value', 'new_value' , inplace=True) #Replace values in a col witha a specific vlaue\n",
        "\n",
        "#data maniputaion\n",
        "reviews[ ['col1','col2'] ] # select specific col\n",
        "reviews[ ['col'] > 10 ] #filter rows based on a condition\n",
        "reviews.groupdy('col').mean() #group the dataframe by col and the mean of each group\n",
        "reviews.pivot(index='col1', columns='col2', value='col3') # pivot the dataframe on a specific column\n",
        "reviews1.merge(review, on='col') #merge 2 dfs based on a common column\n",
        "\n",
        "\n",
        "import matplotlib.pyplot as plt\n",
        "#data visualization\n",
        "reviews['col'].value_counts().plot ( kind='bar' )\n",
        "reviews['col'].plot ( kind='line' )\n",
        "reviews.plot(kind='scatter', x='col1', y='col2')\n",
        "reviews['col'].plot(kind='box')\n",
        "\n",
        "#create a heatmap of the dataframes\n",
        "import seaborn as sns\n",
        "sns.heatmap( reviews.corr(), annot=True, cmap='coolwarm')\n",
        "\n",
        "\n",
        "\n",
        "\n",
        "\n",
        "\n",
        "\n",
        "#group by something and get the count\n",
        "reviews_written = reviews.groupby('taster_twitter_handle').taster_twitter_handle.count()"
      ]
    }
  ]
}