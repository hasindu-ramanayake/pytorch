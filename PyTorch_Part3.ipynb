{
  "nbformat": 4,
  "nbformat_minor": 0,
  "metadata": {
    "colab": {
      "provenance": [],
      "authorship_tag": "ABX9TyMuk57FnBjRcgLvEB5exzm+",
      "include_colab_link": true
    },
    "kernelspec": {
      "name": "python3",
      "display_name": "Python 3"
    },
    "language_info": {
      "name": "python"
    }
  },
  "cells": [
    {
      "cell_type": "markdown",
      "metadata": {
        "id": "view-in-github",
        "colab_type": "text"
      },
      "source": [
        "<a href=\"https://colab.research.google.com/github/hasindu-ramanayake/pytorch/blob/main/PyTorch_Part3.ipynb\" target=\"_parent\"><img src=\"https://colab.research.google.com/assets/colab-badge.svg\" alt=\"Open In Colab\"/></a>"
      ]
    },
    {
      "cell_type": "code",
      "execution_count": 17,
      "metadata": {
        "colab": {
          "base_uri": "https://localhost:8080/",
          "height": 35
        },
        "id": "zaZHbZ4K0lRv",
        "outputId": "c3f1c766-1206-40a4-8136-53a2a851c9e0"
      },
      "outputs": [
        {
          "output_type": "execute_result",
          "data": {
            "text/plain": [
              "'2.0.1+cu118'"
            ],
            "application/vnd.google.colaboratory.intrinsic+json": {
              "type": "string"
            }
          },
          "metadata": {},
          "execution_count": 17
        }
      ],
      "source": [
        "import torch\n",
        "from torch import nn\n",
        "import matplotlib.pyplot as plt\n",
        "\n",
        "torch.__version__"
      ]
    },
    {
      "cell_type": "code",
      "source": [
        "device = \"cuda\" if torch.cuda.is_available() else \"cpu\"\n",
        "device"
      ],
      "metadata": {
        "colab": {
          "base_uri": "https://localhost:8080/",
          "height": 35
        },
        "id": "dzFspLUt049J",
        "outputId": "116fa30f-3c8d-477f-be2d-0fffeab617f9"
      },
      "execution_count": 18,
      "outputs": [
        {
          "output_type": "execute_result",
          "data": {
            "text/plain": [
              "'cpu'"
            ],
            "application/vnd.google.colaboratory.intrinsic+json": {
              "type": "string"
            }
          },
          "metadata": {},
          "execution_count": 18
        }
      ]
    },
    {
      "cell_type": "code",
      "source": [
        "## collecting data\n",
        "weight = 0.7\n",
        "bias = 0.3\n",
        "\n",
        "start = 0\n",
        "end =1\n",
        "step = 0.02\n",
        "\n",
        "X= torch.arange(start,  end, step).unsqueeze(dim=1)\n",
        "Y = weight*X + bias\n",
        "X[:10], Y[:10]"
      ],
      "metadata": {
        "colab": {
          "base_uri": "https://localhost:8080/"
        },
        "id": "4jN-nutT1LLx",
        "outputId": "3aeafff7-cefb-4c55-9bb5-6aa5790fbd3f"
      },
      "execution_count": 19,
      "outputs": [
        {
          "output_type": "execute_result",
          "data": {
            "text/plain": [
              "(tensor([[0.0000],\n",
              "         [0.0200],\n",
              "         [0.0400],\n",
              "         [0.0600],\n",
              "         [0.0800],\n",
              "         [0.1000],\n",
              "         [0.1200],\n",
              "         [0.1400],\n",
              "         [0.1600],\n",
              "         [0.1800]]),\n",
              " tensor([[0.3000],\n",
              "         [0.3140],\n",
              "         [0.3280],\n",
              "         [0.3420],\n",
              "         [0.3560],\n",
              "         [0.3700],\n",
              "         [0.3840],\n",
              "         [0.3980],\n",
              "         [0.4120],\n",
              "         [0.4260]]))"
            ]
          },
          "metadata": {},
          "execution_count": 19
        }
      ]
    },
    {
      "cell_type": "code",
      "source": [
        "train_split = int(0.9*len(X))\n",
        "x_train, y_train = X[:train_split], Y[:train_split]\n",
        "x_test, y_test = X[train_split:] , Y[train_split:]\n"
      ],
      "metadata": {
        "id": "SXHEhzhi1vbQ"
      },
      "execution_count": 20,
      "outputs": []
    },
    {
      "cell_type": "code",
      "source": [
        "def plot_data( train_data = x_train, train_labels=y_train, test_data=x_test,  test_labels=y_test, prediction=None):\n",
        "  plt.figure(figsize=(10,7))\n",
        "  plt.scatter(train_data, train_labels, c='b', s=4, label=\"Traning data\")\n",
        "  plt.scatter(test_data, test_labels, c='y', s=4, label=\"Test data\")\n",
        "  if ( prediction is not None):\n",
        "    plt.scatter(test_data, prediction, c='r', s=4, label=\"Traning data\")\n",
        "  plt.legend( prop={ \"size\":14 } )\n"
      ],
      "metadata": {
        "id": "23xfPWYm23Yi"
      },
      "execution_count": 33,
      "outputs": []
    },
    {
      "cell_type": "code",
      "source": [
        "## Torch model\n",
        "\n",
        "class LinearRegressionModel(nn.Module):\n",
        "  def __init__(self) -> None:\n",
        "    super().__init__()\n",
        "    self.linear_layer = nn.Linear(in_features=1, out_features=1)\n",
        "\n",
        "  def forward(self, x:torch.tensor ) -> torch.tensor:\n",
        "    return self.linear_layer(x)\n",
        "\n",
        "\n",
        "torch.manual_seed(21)\n",
        "model = LinearRegressionModel()\n",
        "model, model.state_dict()"
      ],
      "metadata": {
        "colab": {
          "base_uri": "https://localhost:8080/"
        },
        "id": "NkAjQuwg6LxE",
        "outputId": "6efcf9a6-4619-4dbe-c85b-bf49c384b414"
      },
      "execution_count": 22,
      "outputs": [
        {
          "output_type": "execute_result",
          "data": {
            "text/plain": [
              "(LinearRegressionModel(\n",
              "   (linear_layer): Linear(in_features=1, out_features=1, bias=True)\n",
              " ),\n",
              " OrderedDict([('linear_layer.weight', tensor([[-0.0529]])),\n",
              "              ('linear_layer.bias', tensor([0.2272]))]))"
            ]
          },
          "metadata": {},
          "execution_count": 22
        }
      ]
    },
    {
      "cell_type": "code",
      "source": [
        "model.to(device)\n",
        "next(model.parameters()).device"
      ],
      "metadata": {
        "colab": {
          "base_uri": "https://localhost:8080/"
        },
        "id": "G3My7Mm67cZF",
        "outputId": "73a4db9a-a967-415f-bc7b-360f71c641ff"
      },
      "execution_count": 23,
      "outputs": [
        {
          "output_type": "execute_result",
          "data": {
            "text/plain": [
              "device(type='cpu')"
            ]
          },
          "metadata": {},
          "execution_count": 23
        }
      ]
    },
    {
      "cell_type": "code",
      "source": [
        "#traning\n",
        "loss_fn = nn.L1Loss()\n",
        "optimizer = torch.optim.SGD( params=model.parameters(), lr=0.01)\n",
        "\n",
        "torch.manual_seed(21)\n",
        "\n",
        "epochs = 200\n",
        "x_tr = x_train.to(device)\n",
        "y_tr = y_train.to(device)\n",
        "x_te = x_test.to(device)\n",
        "y_te = y_test.to(device)\n",
        "\n",
        "for epoch in range (epochs):\n",
        "  model.train()\n",
        "  y_pred = model(x_tr)\n",
        "  loss = loss_fn(y_pred, y_tr)\n",
        "  optimizer.zero_grad()\n",
        "  loss.backward()\n",
        "  optimizer.step()\n",
        "  model.eval()\n",
        "  with torch.inference_mode():\n",
        "    test_pre = model(x_te)\n",
        "    test_loss = loss_fn(y_te , test_pre)\n",
        "    if epoch %10 == 0 :\n",
        "      print ( f\" epoch: {epoch} | Loss: {loss} | test_loss: {test_loss} \")"
      ],
      "metadata": {
        "colab": {
          "base_uri": "https://localhost:8080/"
        },
        "id": "7m5iCp6I7uXl",
        "outputId": "712a480f-a6e3-4b86-fc8b-c79d81a32226"
      },
      "execution_count": 26,
      "outputs": [
        {
          "output_type": "stream",
          "name": "stdout",
          "text": [
            " epoch: 0 | Loss: 0.05964335426688194 | test_loss: 0.12051669508218765 \n",
            " epoch: 10 | Loss: 0.05546867474913597 | test_loss: 0.11146476119756699 \n",
            " epoch: 20 | Loss: 0.05129421502351761 | test_loss: 0.10305778682231903 \n",
            " epoch: 30 | Loss: 0.047119759023189545 | test_loss: 0.09465081989765167 \n",
            " epoch: 40 | Loss: 0.042945269495248795 | test_loss: 0.0862436518073082 \n",
            " epoch: 50 | Loss: 0.03877071663737297 | test_loss: 0.07783640921115875 \n",
            " epoch: 60 | Loss: 0.03459367901086807 | test_loss: 0.0694291740655899 \n",
            " epoch: 70 | Loss: 0.03041663207113743 | test_loss: 0.06102191284298897 \n",
            " epoch: 80 | Loss: 0.02623959444463253 | test_loss: 0.052614666521549225 \n",
            " epoch: 90 | Loss: 0.022062547504901886 | test_loss: 0.04420741647481918 \n",
            " epoch: 100 | Loss: 0.017886284738779068 | test_loss: 0.03515521436929703 \n",
            " epoch: 110 | Loss: 0.013711760751903057 | test_loss: 0.026747966185212135 \n",
            " epoch: 120 | Loss: 0.009537250734865665 | test_loss: 0.018340718001127243 \n",
            " epoch: 130 | Loss: 0.005362735129892826 | test_loss: 0.00993345957249403 \n",
            " epoch: 140 | Loss: 0.0018856565002352 | test_loss: 0.005118953995406628 \n",
            " epoch: 150 | Loss: 0.005831071175634861 | test_loss: 0.005118953995406628 \n",
            " epoch: 160 | Loss: 0.005831071175634861 | test_loss: 0.005118953995406628 \n",
            " epoch: 170 | Loss: 0.005831071175634861 | test_loss: 0.005118953995406628 \n",
            " epoch: 180 | Loss: 0.005831071175634861 | test_loss: 0.005118953995406628 \n",
            " epoch: 190 | Loss: 0.005831071175634861 | test_loss: 0.005118953995406628 \n"
          ]
        }
      ]
    },
    {
      "cell_type": "code",
      "source": [
        "model.state_dict()"
      ],
      "metadata": {
        "colab": {
          "base_uri": "https://localhost:8080/"
        },
        "id": "_4EBul-5ev3R",
        "outputId": "ce94d249-2504-4542-db6c-6c620f588688"
      },
      "execution_count": 27,
      "outputs": [
        {
          "output_type": "execute_result",
          "data": {
            "text/plain": [
              "OrderedDict([('linear_layer.weight', tensor([[0.6936]])),\n",
              "             ('linear_layer.bias', tensor([0.2970]))])"
            ]
          },
          "metadata": {},
          "execution_count": 27
        }
      ]
    },
    {
      "cell_type": "code",
      "source": [
        "model.eval()\n",
        "with torch.inference_mode():\n",
        "  y_pred = model(x_te)\n",
        "\n",
        "y_pred"
      ],
      "metadata": {
        "colab": {
          "base_uri": "https://localhost:8080/"
        },
        "id": "b3lDt0pee-Ax",
        "outputId": "c155b15c-3dcf-4e42-b146-5b3282ebd78a"
      },
      "execution_count": 29,
      "outputs": [
        {
          "output_type": "execute_result",
          "data": {
            "text/plain": [
              "tensor([[0.9212],\n",
              "        [0.9351],\n",
              "        [0.9490],\n",
              "        [0.9629],\n",
              "        [0.9767]])"
            ]
          },
          "metadata": {},
          "execution_count": 29
        }
      ]
    },
    {
      "cell_type": "code",
      "source": [
        "plot_data(prediction=y_pred.cpu())"
      ],
      "metadata": {
        "colab": {
          "base_uri": "https://localhost:8080/",
          "height": 599
        },
        "id": "EwpbeaE9fo7i",
        "outputId": "b11c33df-9b11-4cd6-f070-eb38030e492e"
      },
      "execution_count": 35,
      "outputs": [
        {
          "output_type": "display_data",
          "data": {
            "text/plain": [
              "<Figure size 1000x700 with 1 Axes>"
            ],
            "image/png": "[encoded data removed]"
          },
          "metadata": {}
        }
      ]
    },
    {
      "cell_type": "code",
      "source": [],
      "metadata": {
        "id": "9g4rNQ2Bfx5B"
      },
      "execution_count": null,
      "outputs": []
    }
  ]
}