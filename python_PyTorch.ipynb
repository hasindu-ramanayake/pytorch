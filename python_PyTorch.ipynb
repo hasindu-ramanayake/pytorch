{
  "nbformat": 4,
  "nbformat_minor": 0,
  "metadata": {
    "colab": {
      "provenance": [],
      "gpuType": "T4",
      "authorship_tag": "ABX9TyOVdhruUJ+hRWJg7QqdpgGr",
      "include_colab_link": true
    },
    "kernelspec": {
      "name": "python3",
      "display_name": "Python 3"
    },
    "language_info": {
      "name": "python"
    },
    "accelerator": "GPU"
  },
  "cells": [
    {
      "cell_type": "markdown",
      "metadata": {
        "id": "view-in-github",
        "colab_type": "text"
      },
      "source": [
        "<a href=\"https://colab.research.google.com/github/hasindu-ramanayake/pytorch/blob/main/python_PyTorch.ipynb\" target=\"_parent\"><img src=\"https://colab.research.google.com/assets/colab-badge.svg\" alt=\"Open In Colab\"/></a>"
      ]
    },
    {
      "cell_type": "code",
      "execution_count": 1,
      "metadata": {
        "id": "ZQBMbWcu6NE6",
        "colab": {
          "base_uri": "https://localhost:8080/"
        },
        "outputId": "1ad2f01d-910a-44be-9d01-833f8d904ef2"
      },
      "outputs": [
        {
          "output_type": "stream",
          "name": "stdout",
          "text": [
            "2.0.1+cu118\n"
          ]
        }
      ],
      "source": [
        "import torch\n",
        "import pandas as pd\n",
        "import matplotlib.pyplot as plt\n",
        "\n",
        "print(torch.__version__)"
      ]
    },
    {
      "cell_type": "code",
      "source": [
        "scalar = torch.tensor(7)\n",
        "scalar.ndim\n",
        "scalar.item()"
      ],
      "metadata": {
        "colab": {
          "base_uri": "https://localhost:8080/"
        },
        "id": "Z-e3aTBCB7DH",
        "outputId": "69827566-cbad-449b-9ee8-f1bcb687a40f"
      },
      "execution_count": 2,
      "outputs": [
        {
          "output_type": "execute_result",
          "data": {
            "text/plain": [
              "7"
            ]
          },
          "metadata": {},
          "execution_count": 2
        }
      ]
    },
    {
      "cell_type": "code",
      "source": [
        "vector = torch.tensor([1,7])\n",
        "vector\n",
        "vector[1]"
      ],
      "metadata": {
        "colab": {
          "base_uri": "https://localhost:8080/"
        },
        "id": "gs9K6JHoCcpX",
        "outputId": "a23dd0a4-ecad-43ae-d5f5-211bc05da82e"
      },
      "execution_count": 3,
      "outputs": [
        {
          "output_type": "execute_result",
          "data": {
            "text/plain": [
              "tensor(7)"
            ]
          },
          "metadata": {},
          "execution_count": 3
        }
      ]
    },
    {
      "cell_type": "code",
      "source": [
        "MATRIX = torch.tensor([ [1,2],\n",
        "                        [3,4] ])\n",
        "MATRIX[1]"
      ],
      "metadata": {
        "colab": {
          "base_uri": "https://localhost:8080/"
        },
        "id": "Y20GcOmqDG0I",
        "outputId": "6d8ab790-fc27-43a0-ebbf-77382ad7bfb9"
      },
      "execution_count": 4,
      "outputs": [
        {
          "output_type": "execute_result",
          "data": {
            "text/plain": [
              "tensor([3, 4])"
            ]
          },
          "metadata": {},
          "execution_count": 4
        }
      ]
    },
    {
      "cell_type": "code",
      "source": [
        "TENSOR = torch.tensor( [  [   [1,2,3],\n",
        "                              [4,5,6],\n",
        "                              [7,8,9] ] ,\n",
        "                          [   [11,22,33],\n",
        "                              [44,55,66],\n",
        "                              [77,88,99] ]\n",
        "                        ] )\n",
        "\n",
        "TENSOR.shape"
      ],
      "metadata": {
        "colab": {
          "base_uri": "https://localhost:8080/"
        },
        "id": "OCGlTfgiD8CX",
        "outputId": "aed91023-2a48-435a-e1e2-78d77277e357"
      },
      "execution_count": 5,
      "outputs": [
        {
          "output_type": "execute_result",
          "data": {
            "text/plain": [
              "torch.Size([2, 3, 3])"
            ]
          },
          "metadata": {},
          "execution_count": 5
        }
      ]
    },
    {
      "cell_type": "code",
      "source": [
        "R_TENSOR = torch.rand(5,4)\n",
        "R_TENSOR"
      ],
      "metadata": {
        "colab": {
          "base_uri": "https://localhost:8080/"
        },
        "id": "3sxxg2m6Fu25",
        "outputId": "b4cafa40-4c1a-4b73-8994-929e6de6e3e6"
      },
      "execution_count": 6,
      "outputs": [
        {
          "output_type": "execute_result",
          "data": {
            "text/plain": [
              "tensor([[0.9216, 0.0050, 0.5635, 0.1760],\n",
              "        [0.5666, 0.0682, 0.7024, 0.9542],\n",
              "        [0.4465, 0.7814, 0.4785, 0.7443],\n",
              "        [0.9817, 0.3038, 0.1248, 0.4731],\n",
              "        [0.8074, 0.5756, 0.3850, 0.3404]])"
            ]
          },
          "metadata": {},
          "execution_count": 6
        }
      ]
    },
    {
      "cell_type": "code",
      "source": [
        "Z_TENSOR = torch.zeros(size = (3,4))\n",
        "Z_TENSOR"
      ],
      "metadata": {
        "colab": {
          "base_uri": "https://localhost:8080/"
        },
        "id": "r9RtNsmyHKxo",
        "outputId": "6df35d9d-2e3d-4146-da03-8f08b68e6618"
      },
      "execution_count": 7,
      "outputs": [
        {
          "output_type": "execute_result",
          "data": {
            "text/plain": [
              "tensor([[0., 0., 0., 0.],\n",
              "        [0., 0., 0., 0.],\n",
              "        [0., 0., 0., 0.]])"
            ]
          },
          "metadata": {},
          "execution_count": 7
        }
      ]
    },
    {
      "cell_type": "code",
      "source": [
        "ONES_TENSOR = torch.ones(size=(3,4) )\n",
        "ONES_TENSOR"
      ],
      "metadata": {
        "colab": {
          "base_uri": "https://localhost:8080/"
        },
        "id": "UUddhdqxTWtp",
        "outputId": "3f6667b0-426c-4f2c-e4f5-581836ff81ce"
      },
      "execution_count": 8,
      "outputs": [
        {
          "output_type": "execute_result",
          "data": {
            "text/plain": [
              "tensor([[1., 1., 1., 1.],\n",
              "        [1., 1., 1., 1.],\n",
              "        [1., 1., 1., 1.]])"
            ]
          },
          "metadata": {},
          "execution_count": 8
        }
      ]
    },
    {
      "cell_type": "code",
      "source": [
        "range_torch = torch.arange(start=1,end=100, step=11)\n",
        "range_torch"
      ],
      "metadata": {
        "id": "lgFHa5UrTh6q",
        "colab": {
          "base_uri": "https://localhost:8080/"
        },
        "outputId": "bb6e5ebf-9467-4936-fb1d-6777bdb79af9"
      },
      "execution_count": 9,
      "outputs": [
        {
          "output_type": "execute_result",
          "data": {
            "text/plain": [
              "tensor([ 1, 12, 23, 34, 45, 56, 67, 78, 89])"
            ]
          },
          "metadata": {},
          "execution_count": 9
        }
      ]
    },
    {
      "cell_type": "code",
      "source": [
        "like_range = torch.zeros_like(range_torch)\n",
        "like_range"
      ],
      "metadata": {
        "colab": {
          "base_uri": "https://localhost:8080/"
        },
        "id": "yekB1tGYZher",
        "outputId": "d717514d-f5ba-4fc2-d47f-80009deab90d"
      },
      "execution_count": 10,
      "outputs": [
        {
          "output_type": "execute_result",
          "data": {
            "text/plain": [
              "tensor([0, 0, 0, 0, 0, 0, 0, 0, 0])"
            ]
          },
          "metadata": {},
          "execution_count": 10
        }
      ]
    },
    {
      "cell_type": "code",
      "source": [
        "float_32_tensor = torch.tensor( [3.0,4.0,5.0], dtype=None, device=None, requires_grad=False )\n",
        "float_32_tensor.dtype"
      ],
      "metadata": {
        "colab": {
          "base_uri": "https://localhost:8080/"
        },
        "id": "JMX4tnQTaGfr",
        "outputId": "6d771247-9d78-48fe-9572-b1a5f934c355"
      },
      "execution_count": 11,
      "outputs": [
        {
          "output_type": "execute_result",
          "data": {
            "text/plain": [
              "torch.float32"
            ]
          },
          "metadata": {},
          "execution_count": 11
        }
      ]
    },
    {
      "cell_type": "code",
      "source": [
        "float_16_tensor = float_32_tensor.type(torch.float16 )\n",
        "float_16_tensor.dtype"
      ],
      "metadata": {
        "colab": {
          "base_uri": "https://localhost:8080/"
        },
        "id": "1BOPEG4fdJIc",
        "outputId": "a3231c52-4f33-4a78-a0e7-286d528c793c"
      },
      "execution_count": 12,
      "outputs": [
        {
          "output_type": "execute_result",
          "data": {
            "text/plain": [
              "torch.float16"
            ]
          },
          "metadata": {},
          "execution_count": 12
        }
      ]
    },
    {
      "cell_type": "code",
      "source": [
        "some_tensor = torch.rand(size=(3,3))\n",
        "some_tensor\n",
        "print(some_tensor.dtype)\n",
        "print(some_tensor.device)\n",
        "print(some_tensor.shape)"
      ],
      "metadata": {
        "colab": {
          "base_uri": "https://localhost:8080/"
        },
        "id": "BPmPoPtedXXL",
        "outputId": "cb4ac581-b379-4c28-f367-3c9603d0d76b"
      },
      "execution_count": 13,
      "outputs": [
        {
          "output_type": "stream",
          "name": "stdout",
          "text": [
            "torch.float32\n",
            "cpu\n",
            "torch.Size([3, 3])\n"
          ]
        }
      ]
    },
    {
      "cell_type": "code",
      "source": [
        "like_range+10, like_range*10, like_range-10, like_range/10"
      ],
      "metadata": {
        "colab": {
          "base_uri": "https://localhost:8080/"
        },
        "id": "voT1hIrof5dM",
        "outputId": "1f0f1423-a245-43f6-f22f-801752bbc611"
      },
      "execution_count": 14,
      "outputs": [
        {
          "output_type": "execute_result",
          "data": {
            "text/plain": [
              "(tensor([10, 10, 10, 10, 10, 10, 10, 10, 10]),\n",
              " tensor([0, 0, 0, 0, 0, 0, 0, 0, 0]),\n",
              " tensor([-10, -10, -10, -10, -10, -10, -10, -10, -10]),\n",
              " tensor([0., 0., 0., 0., 0., 0., 0., 0., 0.]))"
            ]
          },
          "metadata": {},
          "execution_count": 14
        }
      ]
    },
    {
      "cell_type": "code",
      "source": [
        "%%time\n",
        "torch.matmul(like_range+10,like_range-10)"
      ],
      "metadata": {
        "colab": {
          "base_uri": "https://localhost:8080/"
        },
        "id": "qd5XS9muiz8b",
        "outputId": "6fbd0192-3041-497a-ebed-ee1cf2a8f7f1"
      },
      "execution_count": 15,
      "outputs": [
        {
          "output_type": "stream",
          "name": "stdout",
          "text": [
            "CPU times: user 0 ns, sys: 1.09 ms, total: 1.09 ms\n",
            "Wall time: 1.14 ms\n"
          ]
        },
        {
          "output_type": "execute_result",
          "data": {
            "text/plain": [
              "tensor(-900)"
            ]
          },
          "metadata": {},
          "execution_count": 15
        }
      ]
    },
    {
      "cell_type": "code",
      "source": [
        "### how to fix shape errors\n",
        "tensor_A = torch.rand(size=(3,2))\n",
        "tensor_B = torch.rand(size=(3,2))\n",
        "\n",
        "### add transpose with .T\n",
        "torch.mm(tensor_A, tensor_B.T)"
      ],
      "metadata": {
        "colab": {
          "base_uri": "https://localhost:8080/"
        },
        "id": "Y5EzC76Xl6dd",
        "outputId": "23d7c017-9297-4420-eb92-b4f04e29a847"
      },
      "execution_count": 16,
      "outputs": [
        {
          "output_type": "execute_result",
          "data": {
            "text/plain": [
              "tensor([[0.5175, 0.7923, 0.3594],\n",
              "        [0.3115, 0.6950, 0.3285],\n",
              "        [0.4589, 0.6478, 0.2905]])"
            ]
          },
          "metadata": {},
          "execution_count": 16
        }
      ]
    },
    {
      "cell_type": "code",
      "source": [
        "torch.min(like_range), torch.min(like_range), torch.mean(like_range.type(torch.float32))"
      ],
      "metadata": {
        "colab": {
          "base_uri": "https://localhost:8080/"
        },
        "id": "GHjOd3CDotAe",
        "outputId": "8f671a24-0576-4778-f705-b130d25a4143"
      },
      "execution_count": 17,
      "outputs": [
        {
          "output_type": "execute_result",
          "data": {
            "text/plain": [
              "(tensor(0), tensor(0), tensor(0.))"
            ]
          },
          "metadata": {},
          "execution_count": 17
        }
      ]
    },
    {
      "cell_type": "code",
      "source": [
        "like_range.sum(), like_range.argmin(), like_range.argmax(), like_range.sort()"
      ],
      "metadata": {
        "colab": {
          "base_uri": "https://localhost:8080/"
        },
        "id": "B1g4KjRULool",
        "outputId": "cd271cca-d01b-4339-c5ef-779aefaac5fb"
      },
      "execution_count": 18,
      "outputs": [
        {
          "output_type": "execute_result",
          "data": {
            "text/plain": [
              "(tensor(0),\n",
              " tensor(0),\n",
              " tensor(0),\n",
              " torch.return_types.sort(\n",
              " values=tensor([0, 0, 0, 0, 0, 0, 0, 0, 0]),\n",
              " indices=tensor([0, 1, 2, 3, 4, 5, 6, 7, 8])))"
            ]
          },
          "metadata": {},
          "execution_count": 18
        }
      ]
    },
    {
      "cell_type": "code",
      "source": [
        "### reshaping, stacking, squeezing and unsqueezing, tensors\n",
        "A_reshape = tensor_A.reshape(2,3)\n",
        "A_reshape, tensor_A.reshape(6,1), tensor_A.reshape(1,6)\n",
        "\n",
        "## tensor_A.view(6,1) share the same memory as the original ones"
      ],
      "metadata": {
        "colab": {
          "base_uri": "https://localhost:8080/"
        },
        "id": "4e8ES6kXMPIF",
        "outputId": "8a599659-697d-408f-e225-7c47b9d39111"
      },
      "execution_count": 19,
      "outputs": [
        {
          "output_type": "execute_result",
          "data": {
            "text/plain": [
              "(tensor([[0.6995, 0.8303, 0.7618],\n",
              "         [0.0805, 0.5346, 0.8419]]),\n",
              " tensor([[0.6995],\n",
              "         [0.8303],\n",
              "         [0.7618],\n",
              "         [0.0805],\n",
              "         [0.5346],\n",
              "         [0.8419]]),\n",
              " tensor([[0.6995, 0.8303, 0.7618, 0.0805, 0.5346, 0.8419]]))"
            ]
          },
          "metadata": {},
          "execution_count": 19
        }
      ]
    },
    {
      "cell_type": "code",
      "source": [
        "##remove all unwanted dimentions\n",
        "tensor_A.reshape(6,1).squeeze(), tensor_A.reshape(6,1).squeeze().shape"
      ],
      "metadata": {
        "colab": {
          "base_uri": "https://localhost:8080/"
        },
        "id": "VHonrR-jPpgW",
        "outputId": "76c1eccc-5cb7-4ff4-f760-6d23f08207ca"
      },
      "execution_count": 20,
      "outputs": [
        {
          "output_type": "execute_result",
          "data": {
            "text/plain": [
              "(tensor([0.6995, 0.8303, 0.7618, 0.0805, 0.5346, 0.8419]), torch.Size([6]))"
            ]
          },
          "metadata": {},
          "execution_count": 20
        }
      ]
    },
    {
      "cell_type": "code",
      "source": [
        "x = torch.tensor([[[1,2,3],[4,5,6],[7,8,9]]])\n",
        "x.shape"
      ],
      "metadata": {
        "id": "S3e7cM8IRiEu",
        "colab": {
          "base_uri": "https://localhost:8080/"
        },
        "outputId": "1a21012d-ed53-4157-d82b-9804f0877856"
      },
      "execution_count": 21,
      "outputs": [
        {
          "output_type": "execute_result",
          "data": {
            "text/plain": [
              "torch.Size([1, 3, 3])"
            ]
          },
          "metadata": {},
          "execution_count": 21
        }
      ]
    },
    {
      "cell_type": "code",
      "source": [
        "x[0], x[0][0], x[0][0][0]"
      ],
      "metadata": {
        "colab": {
          "base_uri": "https://localhost:8080/"
        },
        "id": "DBdvCVKAvK6t",
        "outputId": "7205654d-37f9-4a55-dbcc-df65cb6fd1e5"
      },
      "execution_count": 22,
      "outputs": [
        {
          "output_type": "execute_result",
          "data": {
            "text/plain": [
              "(tensor([[1, 2, 3],\n",
              "         [4, 5, 6],\n",
              "         [7, 8, 9]]),\n",
              " tensor([1, 2, 3]),\n",
              " tensor(1))"
            ]
          },
          "metadata": {},
          "execution_count": 22
        }
      ]
    },
    {
      "cell_type": "code",
      "source": [
        "x[:,1], x[:,2], x[:,0]"
      ],
      "metadata": {
        "colab": {
          "base_uri": "https://localhost:8080/"
        },
        "id": "Wq8BqKpiv7Ys",
        "outputId": "19c5bd90-7a1b-4cec-d4b1-cda64c669fda"
      },
      "execution_count": 23,
      "outputs": [
        {
          "output_type": "execute_result",
          "data": {
            "text/plain": [
              "(tensor([[4, 5, 6]]), tensor([[7, 8, 9]]), tensor([[1, 2, 3]]))"
            ]
          },
          "metadata": {},
          "execution_count": 23
        }
      ]
    },
    {
      "cell_type": "code",
      "source": [
        "x[:,:,0], x[:,:,1], x[:,:,2]"
      ],
      "metadata": {
        "colab": {
          "base_uri": "https://localhost:8080/"
        },
        "id": "ehJYvOzQxU5d",
        "outputId": "5e201078-ecee-480a-eacd-c3053be99b04"
      },
      "execution_count": 24,
      "outputs": [
        {
          "output_type": "execute_result",
          "data": {
            "text/plain": [
              "(tensor([[1, 4, 7]]), tensor([[2, 5, 8]]), tensor([[3, 6, 9]]))"
            ]
          },
          "metadata": {},
          "execution_count": 24
        }
      ]
    },
    {
      "cell_type": "code",
      "source": [
        "x[:,2,2], x[:,:,2]"
      ],
      "metadata": {
        "colab": {
          "base_uri": "https://localhost:8080/"
        },
        "id": "VjwtofszxlKd",
        "outputId": "25d2940d-ec42-4312-8470-ea72687b4190"
      },
      "execution_count": 25,
      "outputs": [
        {
          "output_type": "execute_result",
          "data": {
            "text/plain": [
              "(tensor([9]), tensor([[3, 6, 9]]))"
            ]
          },
          "metadata": {},
          "execution_count": 25
        }
      ]
    },
    {
      "cell_type": "code",
      "source": [
        "### how to convert NumPy to Pytorch\n",
        "import numpy as np\n",
        "array = np.arange(1.0, 10.0)\n",
        "tensor = torch.from_numpy(array)\n",
        "array, tensor"
      ],
      "metadata": {
        "colab": {
          "base_uri": "https://localhost:8080/"
        },
        "id": "3vRzKETbyE38",
        "outputId": "9d20722b-3700-46be-a3c6-c43d54f945e8"
      },
      "execution_count": 26,
      "outputs": [
        {
          "output_type": "execute_result",
          "data": {
            "text/plain": [
              "(array([1., 2., 3., 4., 5., 6., 7., 8., 9.]),\n",
              " tensor([1., 2., 3., 4., 5., 6., 7., 8., 9.], dtype=torch.float64))"
            ]
          },
          "metadata": {},
          "execution_count": 26
        }
      ]
    },
    {
      "cell_type": "code",
      "source": [
        "array = array + 1\n",
        "array, tensor"
      ],
      "metadata": {
        "colab": {
          "base_uri": "https://localhost:8080/"
        },
        "id": "zY6R0q7VQTGI",
        "outputId": "e16f6332-89c6-41a0-bc9f-689e3a3da8c6"
      },
      "execution_count": 27,
      "outputs": [
        {
          "output_type": "execute_result",
          "data": {
            "text/plain": [
              "(array([ 2.,  3.,  4.,  5.,  6.,  7.,  8.,  9., 10.]),\n",
              " tensor([1., 2., 3., 4., 5., 6., 7., 8., 9.], dtype=torch.float64))"
            ]
          },
          "metadata": {},
          "execution_count": 27
        }
      ]
    },
    {
      "cell_type": "code",
      "source": [
        "tensor = tensor + 10\n",
        "array_tensor = tensor.numpy()\n",
        "tensor, array_tensor"
      ],
      "metadata": {
        "colab": {
          "base_uri": "https://localhost:8080/"
        },
        "id": "yzsYdsVcQaTz",
        "outputId": "2027ea8e-a7b2-4c7d-bcce-a4c4881079b4"
      },
      "execution_count": 28,
      "outputs": [
        {
          "output_type": "execute_result",
          "data": {
            "text/plain": [
              "(tensor([11., 12., 13., 14., 15., 16., 17., 18., 19.], dtype=torch.float64),\n",
              " array([11., 12., 13., 14., 15., 16., 17., 18., 19.]))"
            ]
          },
          "metadata": {},
          "execution_count": 28
        }
      ]
    },
    {
      "cell_type": "code",
      "source": [
        "#running tensors and pytorch objects on the GPUs\n",
        "torch.cuda.is_available()\n",
        "device = \"cuda\" if torch.cuda.is_available() else \"cpu\"\n",
        "torch.cuda.device_count()"
      ],
      "metadata": {
        "colab": {
          "base_uri": "https://localhost:8080/"
        },
        "id": "mnxQ62SqQprC",
        "outputId": "ac0a1e82-c434-407c-f969-5d56b49dab54"
      },
      "execution_count": 31,
      "outputs": [
        {
          "output_type": "execute_result",
          "data": {
            "text/plain": [
              "1"
            ]
          },
          "metadata": {},
          "execution_count": 31
        }
      ]
    },
    {
      "cell_type": "code",
      "source": [],
      "metadata": {
        "id": "O81oMel7WQxT"
      },
      "execution_count": 29,
      "outputs": []
    }
  ]
}