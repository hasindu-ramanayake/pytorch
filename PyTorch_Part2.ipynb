{
  "nbformat": 4,
  "nbformat_minor": 0,
  "metadata": {
    "colab": {
      "provenance": [],
      "authorship_tag": "ABX9TyOfMAnbV/i/GG5sEzMxmt+N",
      "include_colab_link": true
    },
    "kernelspec": {
      "name": "python3",
      "display_name": "Python 3"
    },
    "language_info": {
      "name": "python"
    }
  },
  "cells": [
    {
      "cell_type": "markdown",
      "metadata": {
        "id": "view-in-github",
        "colab_type": "text"
      },
      "source": [
        "<a href=\"https://colab.research.google.com/github/hasindu-ramanayake/pytorch/blob/main/PyTorch_Part2.ipynb\" target=\"_parent\"><img src=\"https://colab.research.google.com/assets/colab-badge.svg\" alt=\"Open In Colab\"/></a>"
      ]
    },
    {
      "cell_type": "code",
      "execution_count": 1,
      "metadata": {
        "id": "hhunsbhFbUsA"
      },
      "outputs": [],
      "source": [
        "import torch\n",
        "from torch import nn\n",
        "import matplotlib.pyplot as plt\n"
      ]
    },
    {
      "cell_type": "code",
      "source": [
        "weight = 0.7\n",
        "bias = 0.5\n",
        "\n",
        "start = 0\n",
        "end = 3\n",
        "step = 0.03\n",
        "\n",
        "X = torch.arange(start, end, step).unsqueeze(dim=1)\n",
        "Y = weight*X + bias\n",
        "X, Y"
      ],
      "metadata": {
        "id": "o951uVCEbmns",
        "colab": {
          "base_uri": "https://localhost:8080/"
        },
        "outputId": "740d9db6-fcb4-4470-a1f4-6737671d1bc8"
      },
      "execution_count": 2,
      "outputs": [
        {
          "output_type": "execute_result",
          "data": {
            "text/plain": [
              "(tensor([[0.0000],\n",
              "         [0.0300],\n",
              "         [0.0600],\n",
              "         [0.0900],\n",
              "         [0.1200],\n",
              "         [0.1500],\n",
              "         [0.1800],\n",
              "         [0.2100],\n",
              "         [0.2400],\n",
              "         [0.2700],\n",
              "         [0.3000],\n",
              "         [0.3300],\n",
              "         [0.3600],\n",
              "         [0.3900],\n",
              "         [0.4200],\n",
              "         [0.4500],\n",
              "         [0.4800],\n",
              "         [0.5100],\n",
              "         [0.5400],\n",
              "         [0.5700],\n",
              "         [0.6000],\n",
              "         [0.6300],\n",
              "         [0.6600],\n",
              "         [0.6900],\n",
              "         [0.7200],\n",
              "         [0.7500],\n",
              "         [0.7800],\n",
              "         [0.8100],\n",
              "         [0.8400],\n",
              "         [0.8700],\n",
              "         [0.9000],\n",
              "         [0.9300],\n",
              "         [0.9600],\n",
              "         [0.9900],\n",
              "         [1.0200],\n",
              "         [1.0500],\n",
              "         [1.0800],\n",
              "         [1.1100],\n",
              "         [1.1400],\n",
              "         [1.1700],\n",
              "         [1.2000],\n",
              "         [1.2300],\n",
              "         [1.2600],\n",
              "         [1.2900],\n",
              "         [1.3200],\n",
              "         [1.3500],\n",
              "         [1.3800],\n",
              "         [1.4100],\n",
              "         [1.4400],\n",
              "         [1.4700],\n",
              "         [1.5000],\n",
              "         [1.5300],\n",
              "         [1.5600],\n",
              "         [1.5900],\n",
              "         [1.6200],\n",
              "         [1.6500],\n",
              "         [1.6800],\n",
              "         [1.7100],\n",
              "         [1.7400],\n",
              "         [1.7700],\n",
              "         [1.8000],\n",
              "         [1.8300],\n",
              "         [1.8600],\n",
              "         [1.8900],\n",
              "         [1.9200],\n",
              "         [1.9500],\n",
              "         [1.9800],\n",
              "         [2.0100],\n",
              "         [2.0400],\n",
              "         [2.0700],\n",
              "         [2.1000],\n",
              "         [2.1300],\n",
              "         [2.1600],\n",
              "         [2.1900],\n",
              "         [2.2200],\n",
              "         [2.2500],\n",
              "         [2.2800],\n",
              "         [2.3100],\n",
              "         [2.3400],\n",
              "         [2.3700],\n",
              "         [2.4000],\n",
              "         [2.4300],\n",
              "         [2.4600],\n",
              "         [2.4900],\n",
              "         [2.5200],\n",
              "         [2.5500],\n",
              "         [2.5800],\n",
              "         [2.6100],\n",
              "         [2.6400],\n",
              "         [2.6700],\n",
              "         [2.7000],\n",
              "         [2.7300],\n",
              "         [2.7600],\n",
              "         [2.7900],\n",
              "         [2.8200],\n",
              "         [2.8500],\n",
              "         [2.8800],\n",
              "         [2.9100],\n",
              "         [2.9400],\n",
              "         [2.9700]]),\n",
              " tensor([[0.5000],\n",
              "         [0.5210],\n",
              "         [0.5420],\n",
              "         [0.5630],\n",
              "         [0.5840],\n",
              "         [0.6050],\n",
              "         [0.6260],\n",
              "         [0.6470],\n",
              "         [0.6680],\n",
              "         [0.6890],\n",
              "         [0.7100],\n",
              "         [0.7310],\n",
              "         [0.7520],\n",
              "         [0.7730],\n",
              "         [0.7940],\n",
              "         [0.8150],\n",
              "         [0.8360],\n",
              "         [0.8570],\n",
              "         [0.8780],\n",
              "         [0.8990],\n",
              "         [0.9200],\n",
              "         [0.9410],\n",
              "         [0.9620],\n",
              "         [0.9830],\n",
              "         [1.0040],\n",
              "         [1.0250],\n",
              "         [1.0460],\n",
              "         [1.0670],\n",
              "         [1.0880],\n",
              "         [1.1090],\n",
              "         [1.1300],\n",
              "         [1.1510],\n",
              "         [1.1720],\n",
              "         [1.1930],\n",
              "         [1.2140],\n",
              "         [1.2350],\n",
              "         [1.2560],\n",
              "         [1.2770],\n",
              "         [1.2980],\n",
              "         [1.3190],\n",
              "         [1.3400],\n",
              "         [1.3610],\n",
              "         [1.3820],\n",
              "         [1.4030],\n",
              "         [1.4240],\n",
              "         [1.4450],\n",
              "         [1.4660],\n",
              "         [1.4870],\n",
              "         [1.5080],\n",
              "         [1.5290],\n",
              "         [1.5500],\n",
              "         [1.5710],\n",
              "         [1.5920],\n",
              "         [1.6130],\n",
              "         [1.6340],\n",
              "         [1.6550],\n",
              "         [1.6760],\n",
              "         [1.6970],\n",
              "         [1.7180],\n",
              "         [1.7390],\n",
              "         [1.7600],\n",
              "         [1.7810],\n",
              "         [1.8020],\n",
              "         [1.8230],\n",
              "         [1.8440],\n",
              "         [1.8650],\n",
              "         [1.8860],\n",
              "         [1.9070],\n",
              "         [1.9280],\n",
              "         [1.9490],\n",
              "         [1.9700],\n",
              "         [1.9910],\n",
              "         [2.0120],\n",
              "         [2.0330],\n",
              "         [2.0540],\n",
              "         [2.0750],\n",
              "         [2.0960],\n",
              "         [2.1170],\n",
              "         [2.1380],\n",
              "         [2.1590],\n",
              "         [2.1800],\n",
              "         [2.2010],\n",
              "         [2.2220],\n",
              "         [2.2430],\n",
              "         [2.2640],\n",
              "         [2.2850],\n",
              "         [2.3060],\n",
              "         [2.3270],\n",
              "         [2.3480],\n",
              "         [2.3690],\n",
              "         [2.3900],\n",
              "         [2.4110],\n",
              "         [2.4320],\n",
              "         [2.4530],\n",
              "         [2.4740],\n",
              "         [2.4950],\n",
              "         [2.5160],\n",
              "         [2.5370],\n",
              "         [2.5580],\n",
              "         [2.5790]]))"
            ]
          },
          "metadata": {},
          "execution_count": 2
        }
      ]
    },
    {
      "cell_type": "code",
      "source": [],
      "metadata": {
        "id": "zk5CSaQ8nOu3"
      },
      "execution_count": 2,
      "outputs": []
    },
    {
      "cell_type": "code",
      "source": [
        "train_x_size = int (len(X)*0.8)\n",
        "train_y_size = int (len(Y)*0.8)\n",
        "train_x_size, train_y_size\n"
      ],
      "metadata": {
        "colab": {
          "base_uri": "https://localhost:8080/"
        },
        "id": "D_m2JR8x2oQW",
        "outputId": "690e9007-f7dc-45f1-fb47-014bde03e57d"
      },
      "execution_count": 3,
      "outputs": [
        {
          "output_type": "execute_result",
          "data": {
            "text/plain": [
              "(80, 80)"
            ]
          },
          "metadata": {},
          "execution_count": 3
        }
      ]
    },
    {
      "cell_type": "code",
      "source": [
        "X_train = X[:train_x_size]\n",
        "Y_train = Y[:train_y_size]\n",
        "X_test = X[train_x_size:]\n",
        "Y_test = Y[train_y_size:]\n",
        "len(X_train), len(Y_train), len(X_test), len(Y_test)\n"
      ],
      "metadata": {
        "colab": {
          "base_uri": "https://localhost:8080/"
        },
        "id": "-P32Ctrp3IKM",
        "outputId": "50593ff3-a3de-4c2a-a4c0-eb3b6e45fa60"
      },
      "execution_count": 4,
      "outputs": [
        {
          "output_type": "execute_result",
          "data": {
            "text/plain": [
              "(80, 80, 20, 20)"
            ]
          },
          "metadata": {},
          "execution_count": 4
        }
      ]
    },
    {
      "cell_type": "code",
      "source": [
        "# plot the data we have\n",
        "def plot_predictions( train_data=X_train, train_labels=Y_train, test_data=X_test, test_labels=Y_test, predictions=None ):\n",
        "  plt.figure(figsize=(10,7))\n",
        "  plt.scatter(train_data, train_labels, c=\"b\", s=4, label=\"Training data\")\n",
        "  plt.scatter(test_data, test_labels, c=\"g\", s=4, label=\"Test data\")\n",
        "  if predictions is not None:\n",
        "    plt.scatter(test_data, predictions, c=\"r\", s=4, label=\"Predictions\")\n",
        "\n",
        "  plt.legend(prop={ \"size\": 14})"
      ],
      "metadata": {
        "id": "A6SqmuG43zA7"
      },
      "execution_count": 5,
      "outputs": []
    },
    {
      "cell_type": "code",
      "source": [
        "plot_predictions()"
      ],
      "metadata": {
        "colab": {
          "base_uri": "https://localhost:8080/",
          "height": 599
        },
        "id": "krL1bLDX6mR0",
        "outputId": "8ba0a4da-e951-4633-95ba-123e181c6d55"
      },
      "execution_count": 6,
      "outputs": [
        {
          "output_type": "display_data",
          "data": {
            "text/plain": [
              "<Figure size 1000x700 with 1 Axes>"
            ],
            "image/png": "[encoded data removed]"
          },
          "metadata": {}
        }
      ]
    },
    {
      "cell_type": "code",
      "source": [
        "class LinearRegressionModel(nn.Module):\n",
        "  def __init__(self) -> None:\n",
        "    super().__init__()\n",
        "    self.weight = nn.Parameter( torch.randn(1,requires_grad=True, dtype=torch.float ))\n",
        "    self.bias = nn.Parameter( torch.randn(1,requires_grad=True, dtype=torch.float ))\n",
        "\n",
        "  #Forward method to define the computation in the model\n",
        "  def forward(self, x:torch.Tensor) ->torch.Tensor:\n",
        "    return self.weight*x + self.bias\n"
      ],
      "metadata": {
        "id": "igZXrOx47Kb7"
      },
      "execution_count": 7,
      "outputs": []
    },
    {
      "cell_type": "code",
      "source": [
        "torch.manual_seed(31)\n",
        "model_0 = LinearRegressionModel()\n",
        "model_0.state_dict()"
      ],
      "metadata": {
        "id": "zKj03slMkU0r",
        "colab": {
          "base_uri": "https://localhost:8080/"
        },
        "outputId": "30bb557e-a442-4f62-914b-345f30b3d802"
      },
      "execution_count": 8,
      "outputs": [
        {
          "output_type": "execute_result",
          "data": {
            "text/plain": [
              "OrderedDict([('weight', tensor([0.3519])), ('bias', tensor([-0.5683]))])"
            ]
          },
          "metadata": {},
          "execution_count": 8
        }
      ]
    },
    {
      "cell_type": "code",
      "source": [
        "loss_fn = nn.L1Loss()\n",
        "optimizer = torch.optim.SGD( params=model_0.parameters(), lr=0.02 )\n"
      ],
      "metadata": {
        "id": "CiHXqMUFEWqD"
      },
      "execution_count": 9,
      "outputs": []
    },
    {
      "cell_type": "code",
      "source": [
        "torch.manual_seed(31)\n",
        "epochs =100\n",
        "epoch_count = []\n",
        "loss_value = []\n",
        "test_loss_value= []\n",
        "\n",
        "for epoch in range(epochs):\n",
        "  model_0.train()\n",
        "  y_pred = model_0( X_train )\n",
        "  loss = loss_fn(y_pred, Y_train)\n",
        "  optimizer.zero_grad()\n",
        "  loss.backward()\n",
        "  optimizer.step()\n",
        "\n",
        "  #### Testing\n",
        "  model_0.eval()\n",
        "  with torch.inference_mode():\n",
        "    test_pred = model_0(X_test)\n",
        "    test_loss = loss_fn(test_pred, Y_test)\n",
        "    if epoch %10 == 0:\n",
        "      epoch_count.append(epoch)\n",
        "      loss_value.append(loss)\n",
        "      test_loss_value.append(test_loss)\n",
        "      print(model_0.state_dict())\n"
      ],
      "metadata": {
        "colab": {
          "base_uri": "https://localhost:8080/"
        },
        "id": "nwsCX6UrFKQn",
        "outputId": "2a9c2a1a-eed8-4a8a-f5bb-83bd058b203b"
      },
      "execution_count": 10,
      "outputs": [
        {
          "output_type": "stream",
          "name": "stdout",
          "text": [
            "OrderedDict([('weight', tensor([0.3756])), ('bias', tensor([-0.5483]))])\n",
            "OrderedDict([('weight', tensor([0.6126])), ('bias', tensor([-0.3483]))])\n",
            "OrderedDict([('weight', tensor([0.8496])), ('bias', tensor([-0.1483]))])\n",
            "OrderedDict([('weight', tensor([0.9924])), ('bias', tensor([0.0072]))])\n",
            "OrderedDict([('weight', tensor([0.9710])), ('bias', tensor([0.0777]))])\n",
            "OrderedDict([('weight', tensor([0.9329])), ('bias', tensor([0.1377]))])\n",
            "OrderedDict([('weight', tensor([0.8948])), ('bias', tensor([0.1977]))])\n",
            "OrderedDict([('weight', tensor([0.8567])), ('bias', tensor([0.2577]))])\n",
            "OrderedDict([('weight', tensor([0.8186])), ('bias', tensor([0.3177]))])\n",
            "OrderedDict([('weight', tensor([0.7798])), ('bias', tensor([0.3772]))])\n"
          ]
        }
      ]
    },
    {
      "cell_type": "code",
      "source": [
        "len(y_pred), len(X_train)\n",
        "plot_predictions(predictions=test_pred.detach().numpy())"
      ],
      "metadata": {
        "colab": {
          "base_uri": "https://localhost:8080/",
          "height": 599
        },
        "id": "gsfZ4plqHsWG",
        "outputId": "1c3a4822-3dd8-4b96-ee4c-11e0af2bdaea"
      },
      "execution_count": 11,
      "outputs": [
        {
          "output_type": "display_data",
          "data": {
            "text/plain": [
              "<Figure size 1000x700 with 1 Axes>"
            ],
            "image/png": "[encoded data removed]"
          },
          "metadata": {}
        }
      ]
    },
    {
      "cell_type": "code",
      "source": [],
      "metadata": {
        "id": "m-ito5h2ICIn"
      },
      "execution_count": 11,
      "outputs": []
    }
  ]
}